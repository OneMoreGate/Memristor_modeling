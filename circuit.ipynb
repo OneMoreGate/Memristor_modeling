{
 "cells": [
  {
   "cell_type": "code",
   "execution_count": 58,
   "metadata": {},
   "outputs": [],
   "source": [
    "import numpy as np\n",
    "import matplotlib.pyplot as plt"
   ]
  },
  {
   "cell_type": "code",
   "execution_count": 59,
   "metadata": {},
   "outputs": [],
   "source": [
    "class Signal:\n",
    "\n",
    "    def __init__(self) -> None:\n",
    "        pass\n",
    "\n",
    "    def signal_initialize(self, amplitude, frequency, reprtition, n_points, duty_cycle):\n",
    "        self.amplitude = amplitude\n",
    "        self.frequency = frequency\n",
    "        self.reprtition = reprtition\n",
    "        self.n_points = n_points\n",
    "        self.duty_cycle = duty_cycle\n",
    "        self.period = 1 / frequency\n",
    "        self.time_array = np.linspace(0, self.reprtition * self.period, self.reprtition * self.n_points)\n",
    "\n",
    "    def sine(self) -> list:\n",
    "        scale = 2 * np.pi * self.frequency\n",
    "        voltage = self.amplitude * np.sin(self.time_array * scale)\n",
    "        self.V = np.array(voltage)\n",
    "        return [self.time_array, self.V]\n",
    "    \n",
    "    def triangle(self):\n",
    "        quater_period = self.period / 4\n",
    "        t = self.time_array\n",
    "        voltage = []\n",
    "        for j in range(self.reprtition):\n",
    "            for i in t[j * self.n_points: (j+1) * self.n_points]:\n",
    "                if i <= (t[j * self.n_points] + quater_period):\n",
    "                    voltage.append(self.amplitude / quater_period * (i - t[j * self.n_points]))\n",
    "                elif (i > (t[j * self.n_points] + quater_period)) and (i < (t[j * self.n_points] + 3 * quater_period)):\n",
    "                    voltage.append(- self.amplitude / quater_period * (i - t[j * self.n_points] - 3 * quater_period) - self.amplitude)\n",
    "                elif i > (t[j * self.n_points] + 3 * quater_period):\n",
    "                    voltage.append(self.amplitude / quater_period * (i - t[j * self.n_points]) - 4 * self.amplitude)\n",
    "        self.V = np.array(voltage)\n",
    "        return [self.time_array, self.V]\n",
    "    \n",
    "    def bipolar_rectangle(self):\n",
    "        half_period = self.period / 2\n",
    "        t = self.time_array\n",
    "        voltage = []\n",
    "        for j in range(self.reprtition):\n",
    "            for i in t[j * self.n_points: (j+1) * self.n_points]:\n",
    "                if (i <= (t[j * self.n_points] + half_period/2)) or ((i > (t[j * self.n_points] + half_period)) and i < (t[j * self.n_points] + 3/2 *half_period)):\n",
    "                    voltage.append(0)\n",
    "                elif (i > (t[j * self.n_points] + half_period/2)) and i < (t[j * self.n_points] + half_period):\n",
    "                    voltage.append(self.amplitude)\n",
    "                elif (i > (t[j * self.n_points] + 3/2 *half_period)):\n",
    "                    voltage.append(- self.amplitude)\n",
    "        voltage[-1] = 0\n",
    "        self.V = np.array(voltage)\n",
    "        return [self.time_array, self.V]\n",
    "\n"
   ]
  },
  {
   "cell_type": "code",
   "execution_count": 60,
   "metadata": {},
   "outputs": [],
   "source": [
    "class Hyperparameters:\n",
    "\n",
    "    def __init__(self) -> None:\n",
    "        pass\n",
    "\n",
    "    def hyp_initialize(self, V_th, a, b, c, s, n, beta, xi, alpha_m, gamma):\n",
    "        self.V_th = V_th\n",
    "        self.a = a\n",
    "        self.b = b\n",
    "        self.c = c\n",
    "        self.s = s\n",
    "        self.n = n\n",
    "        self.beta = beta\n",
    "        self.xi = xi\n",
    "        self.alpha_m = alpha_m\n",
    "        self.gamma = gamma"
   ]
  },
  {
   "cell_type": "code",
   "execution_count": 61,
   "metadata": {},
   "outputs": [],
   "source": [
    "class Calculation:\n",
    "\n",
    "    def __init__(self) -> None:\n",
    "        pass\n",
    "    \n",
    "    def p_calc(self, V_i):\n",
    "        return int(self.b/(np.abs(V_i) + self.c))\n",
    "\n",
    "    def f_calc(self, x_i, V_i):\n",
    "        if V_i <= - self.V_th:\n",
    "            return 1 - (1 - x_i) ** (self.p_calc(V_i))\n",
    "        elif V_i >= self.V_th:\n",
    "            return 1 - x_i ** (self.p_calc(V_i))\n",
    "        else:\n",
    "            return 0\n",
    "        \n",
    "    def x_calc(self):\n",
    "        self.delta_t = self.time_array[1] - self.time_array[0]\n",
    "        self.x_last = 0\n",
    "        x_next = self.a * self.V[self.time_moment-1] ** self.s * self.f_calc(self.x_last, self.V[self.time_moment-1]) * self.delta_t + self.x_last\n",
    "        self.x_last = x_next\n",
    "        return x_next\n",
    "\n",
    "    def current_calc(self):\n",
    "        if self.time_moment == 0:\n",
    "            return 0\n",
    "        else:\n",
    "            x = self.x_calc()\n",
    "            return x ** self.n * self.beta * np.sinh(self.alpha_m * self.V[self.time_moment-1]) + self.xi * (np.exp(self.gamma * self.V[self.time_moment-1]) - 1)"
   ]
  },
  {
   "cell_type": "code",
   "execution_count": 62,
   "metadata": {},
   "outputs": [],
   "source": [
    "class Model(Signal, Hyperparameters, Calculation):\n",
    "\n",
    "    def __init__(self, time_moment = 0) -> None:\n",
    "        super().__init__()\n",
    "        self.time_moment = time_moment\n",
    "\n",
    "    def set_puls_params(self, amplitude = 2, frequency = 1, reprtition = 1, n_points = 100, duty_cycle = 0.25):\n",
    "        super().signal_initialize(amplitude= amplitude, frequency= frequency, reprtition = reprtition, n_points = n_points, duty_cycle = duty_cycle)\n",
    "\n",
    "    def set_hyperparams(self, V_th  = 1.5, a= 1 , b = 15, c = 2, s = 5, n = 5, beta = 7.069 * 10 ** (-5), xi = 1.946 * 10 ** (-4), alpha_m = 1.8, gamma = 0.15):\n",
    "        super().hyp_initialize(V_th = V_th, a = a, b = b, c = c, s = s, n = n, beta = beta, xi = xi, alpha_m = alpha_m, gamma = gamma)\n",
    "        \n",
    "    def set_puls_form(self, puls_type = 'sine'):\n",
    "        match puls_type:\n",
    "            case 'sine':\n",
    "                self.t, self.V = super().sine()\n",
    "            case 'triangle':\n",
    "                self.t, self.V = super().triangle()\n",
    "            case 'rectangle':\n",
    "                self.t, self.V = super().bipolar_rectangle()\n",
    "            case _:\n",
    "                self.t, self.V = super().sine()\n",
    "                print('The pulse type is\\'t set correctly. The default pulse type value is set')\n",
    "\n",
    "    def set_default(self):\n",
    "        self.set_hyperparams()\n",
    "        self.set_puls_params()\n",
    "        self.set_puls_form()\n",
    "\n",
    "    def calculate(self):\n",
    "        self.I = super().current_calc()\n",
    "        return super().current_calc()\n",
    "\n"
   ]
  },
  {
   "cell_type": "code",
   "execution_count": 65,
   "metadata": {},
   "outputs": [
    {
     "data": {
      "text/plain": [
       "[<matplotlib.lines.Line2D at 0x1467cecc510>]"
      ]
     },
     "execution_count": 65,
     "metadata": {},
     "output_type": "execute_result"
    },
    {
     "data": {
      "image/png": "[encoded data removed]",
      "text/plain": [
       "<Figure size 640x480 with 1 Axes>"
      ]
     },
     "metadata": {},
     "output_type": "display_data"
    }
   ],
   "source": [
    "model = Model()\n",
    "model.set_default()\n",
    "model.set_puls_params(reprtition=1)\n",
    "t, V = model.time_array, model.V\n",
    "\n",
    "I = []\n",
    "for i in range(len(t)):\n",
    "    model.time_moment = i\n",
    "    I.append(model.calculate())\n",
    "\n",
    "plt.plot(V, I)\n"
   ]
  }
 ],
 "metadata": {
  "kernelspec": {
   "display_name": "Python 3",
   "language": "python",
   "name": "python3"
  },
  "language_info": {
   "codemirror_mode": {
    "name": "ipython",
    "version": 3
   },
   "file_extension": ".py",
   "mimetype": "text/x-python",
   "name": "python",
   "nbconvert_exporter": "python",
   "pygments_lexer": "ipython3",
   "version": "3.11.4"
  },
  "orig_nbformat": 4
 },
 "nbformat": 4,
 "nbformat_minor": 2
}
