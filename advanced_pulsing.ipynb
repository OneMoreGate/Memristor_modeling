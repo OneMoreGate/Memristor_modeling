{
 "cells": [
  {
   "cell_type": "code",
   "execution_count": 126,
   "metadata": {},
   "outputs": [],
   "source": [
    "import numpy as np\n",
    "import matplotlib.pyplot as plt"
   ]
  },
  {
   "cell_type": "code",
   "execution_count": 127,
   "metadata": {},
   "outputs": [],
   "source": [
    "class PulsesChain():\n",
    "    \n",
    "    def __init__(self):\n",
    "        pass"
   ]
  },
  {
   "cell_type": "code",
   "execution_count": 128,
   "metadata": {},
   "outputs": [],
   "source": [
    "class Pulse():\n",
    "\n",
    "    type_list = ['sine', 'trapezoid', 'triangle', 'rectangular']\n",
    "\n",
    "    def __init__(self):\n",
    "        pass\n",
    "\n",
    "    def draw_line(self, y_1: float, y_2: float, x_dots: list) -> list:\n",
    "        x_1, x_2 = x_dots[0], x_dots[-1]\n",
    "        y_dots = [(y_2 - y_1) / (x_2 - x_1) * (x - x_1)  + y_1 for x in x_dots] \n",
    "        return y_dots\n",
    "\n",
    "    def sine(self):\n",
    "        pass\n",
    "\n",
    "    def trapezoid(self, amplitude: float, rise_time: float, waite_time: float, down_time: float, period_time: float = None) -> np.array:\n",
    "        #if rise_time + waite_time + down_time > period_time:\n",
    "            #raise ValueError(f'the sum rise_time + waite_time + down_time bigger then period_time')\n",
    "\n",
    "\n",
    "        if period_time == None:\n",
    "            full_time = rise_time + waite_time + down_time\n",
    "            if rise_time == 0:\n",
    "                rise_time = full_time/self.dots_per_pulse\n",
    "            if waite_time == 0:\n",
    "                waite_time = full_time/self.dots_per_pulse\n",
    "            if down_time == 0:\n",
    "                down_time = full_time/self.dots_per_pulse\n",
    "            if period_time == 0:\n",
    "                period_time = full_time/self.dots_per_pulse\n",
    "            \n",
    "            x_array = np.linspace(0, full_time, self.dots_per_pulse)\n",
    "\n",
    "            rise_x_dots = int(self.dots_per_pulse * rise_time / full_time)\n",
    "            waite_x_dots = int(self.dots_per_pulse * waite_time / full_time)\n",
    "\n",
    "            rise_x_slice = x_array[0: rise_x_dots]\n",
    "            waite_x_slice = x_array[rise_x_dots: rise_x_dots + waite_x_dots+1]\n",
    "            down_x_slice = x_array[rise_x_dots + waite_x_dots: -1]\n",
    "            #if len(rise_x_slice + waite_x_slice + down_x_slice) != self.dots_per_pulse:\n",
    "\n",
    "\n",
    "            rise_y_slice = self.draw_line(0, amplitude, rise_x_slice)\n",
    "            waite_y_slice = self.draw_line(amplitude, amplitude, waite_x_slice)\n",
    "            down_y_slice = self.draw_line(amplitude, 0, down_x_slice)\n",
    "\n",
    "            y_array = np.concatenate([rise_y_slice, waite_y_slice, down_y_slice])\n",
    "\n",
    "        else:\n",
    "            full_time = rise_time + waite_time + down_time + period_time\n",
    "            if rise_time == 0:\n",
    "                rise_time = full_time/self.dots_per_pulse\n",
    "            if waite_time == 0:\n",
    "                waite_time = full_time/self.dots_per_pulse\n",
    "            if down_time == 0:\n",
    "                down_time = full_time/self.dots_per_pulse\n",
    "            if period_time == 0:\n",
    "                period_time = full_time/self.dots_per_pulse\n",
    "            \n",
    "            x_array = np.linspace(0, full_time, self.dots_per_pulse)\n",
    "\n",
    "            rise_x_dots = int(self.dots_per_pulse * rise_time / full_time)\n",
    "            waite_x_dots = int(self.dots_per_pulse * waite_time / full_time)\n",
    "            down_x_dots = int(self.dots_per_pulse * down_time / full_time)\n",
    "\n",
    "            rise_x_slice = x_array[0: rise_x_dots]\n",
    "            waite_x_slice = x_array[rise_x_dots: rise_x_dots + waite_x_dots + 1]\n",
    "            down_x_slice = x_array[rise_x_dots + waite_x_dots: rise_x_dots + waite_x_dots + down_x_dots]\n",
    "            zero_x_slice = x_array[rise_x_dots + waite_x_dots + down_x_dots: -1]\n",
    "\n",
    "            rise_y_slice = self.draw_line(0, amplitude, rise_x_slice)\n",
    "            waite_y_slice = self.draw_line(amplitude, amplitude, waite_x_slice)\n",
    "            down_y_slice = self.draw_line(amplitude, 0, down_x_slice)\n",
    "            zero_y_slice = self.draw_line(0, 0, zero_x_slice)\n",
    "\n",
    "            y_array = np.concatenate([rise_y_slice, waite_y_slice, down_y_slice, zero_y_slice])\n",
    "\n",
    "        return  x_array ,y_array\n",
    "\n",
    "\n",
    "    def triangle(self):\n",
    "        pass\n",
    "\n",
    "    def rectangular(self):\n",
    "        pass\n",
    "\n",
    "    def set_type(self, pulse_type: str, dots_per_pulse: int) -> None:\n",
    "        #if isinstance(dots_per_pulse, int):\n",
    "        #    raise ValueError('dots_per_pulse must have int type')\n",
    "        if str(pulse_type) not in self.type_list:\n",
    "            raise ValueError(f'{pulse_type} not exist in type_list')\n",
    "        else:\n",
    "            self.pulse_type = str(pulse_type)\n",
    "            self.dots_per_pulse = dots_per_pulse\n",
    "\n",
    "    "
   ]
  },
  {
   "cell_type": "code",
   "execution_count": 129,
   "metadata": {},
   "outputs": [
    {
     "name": "stderr",
     "output_type": "stream",
     "text": [
      "C:\\Users\\Nikita\\AppData\\Local\\Temp\\ipykernel_24284\\2840336950.py:10: RuntimeWarning: divide by zero encountered in scalar divide\n",
      "  y_dots = [(y_2 - y_1) / (x_2 - x_1) * (x - x_1)  + y_1 for x in x_dots]\n",
      "C:\\Users\\Nikita\\AppData\\Local\\Temp\\ipykernel_24284\\2840336950.py:10: RuntimeWarning: invalid value encountered in scalar multiply\n",
      "  y_dots = [(y_2 - y_1) / (x_2 - x_1) * (x - x_1)  + y_1 for x in x_dots]\n"
     ]
    },
    {
     "data": {
      "text/plain": [
       "[<matplotlib.lines.Line2D at 0x16c7e781350>]"
      ]
     },
     "execution_count": 129,
     "metadata": {},
     "output_type": "execute_result"
    },
    {
     "data": {
      "image/png": "[encoded data removed]",
      "text/plain": [
       "<Figure size 640x480 with 1 Axes>"
      ]
     },
     "metadata": {},
     "output_type": "display_data"
    }
   ],
   "source": [
    "p_1 = Pulse()\n",
    "p_1.set_type('sine', dots_per_pulse = 1000)\n",
    "x, y = p_1.trapezoid(1, 1,1,0, 1)\n",
    "plt.plot(x, y)"
   ]
  }
 ],
 "metadata": {
  "kernelspec": {
   "display_name": "Python 3",
   "language": "python",
   "name": "python3"
  },
  "language_info": {
   "codemirror_mode": {
    "name": "ipython",
    "version": 3
   },
   "file_extension": ".py",
   "mimetype": "text/x-python",
   "name": "python",
   "nbconvert_exporter": "python",
   "pygments_lexer": "ipython3",
   "version": "3.11.2"
  }
 },
 "nbformat": 4,
 "nbformat_minor": 2
}
