{
 "cells": [
  {
   "cell_type": "code",
   "execution_count": 63,
   "metadata": {},
   "outputs": [],
   "source": [
    "from matplotlib import pyplot as plt\n",
    "import pandas as pd \n",
    "import numpy as np "
   ]
  },
  {
   "cell_type": "code",
   "execution_count": 64,
   "metadata": {},
   "outputs": [],
   "source": [
    "class ThresholdSwitch():\n",
    "    def __init__(self,  R_off: float = 10_000_000_000, R_on: float = 10_000, V_th: float = 0.3, V_hold: float = 0.05) -> None:\n",
    "        self.R_off = R_off \n",
    "        self.R_on = R_on\n",
    "        self.V_th = V_th\n",
    "        self.V_hold = V_hold\n",
    "        self.state = 'off'\n",
    "\n",
    "    def get_resistance(self, voltage: float):\n",
    "        if (self.state == 'off') and ((voltage) < self.V_th):\n",
    "            return self.R_off\n",
    "        elif (self.state == 'off') and ((voltage) > self.V_th):\n",
    "            self.state = 'on'\n",
    "            return self.R_on\n",
    "        elif (self.state == 'on') and ((voltage) > self.V_hold):\n",
    "            return self.R_on\n",
    "        elif (self.state == 'on') and ((voltage) < self.V_hold):\n",
    "            self.state = 'off'\n",
    "            return self.R_off"
   ]
  },
  {
   "cell_type": "code",
   "execution_count": 65,
   "metadata": {},
   "outputs": [],
   "source": [
    "time = np.linspace(0, 10, 1_000_000)\n",
    "dt = time[1] - time[0]\n",
    "ts = ThresholdSwitch(V_hold=0.1, V_th=0.5, R_off=5e10, R_on=3e4)\n",
    "\n",
    "E = 2\n",
    "R_r = 1e6\n",
    "C = 1e-10\n",
    "R_ts = [ts.get_resistance(0)]\n",
    "U_ts = [0]\n",
    "I_ts = [0]\n",
    "I_C = [0]\n",
    "I = [0]\n",
    "U_r = [0]\n",
    "\n",
    "for i in range(1, len(time)):\n",
    "    I.append(E / (R_r + R_ts[i-1]))\n",
    "    U_ts.append((I[i-1] - U_ts[i-1] / R_ts[i-1]) * dt/C + U_ts[i-1])\n",
    "    R_ts.append(ts.get_resistance(U_ts[i]))\n",
    "    I_ts.append(U_ts[i] / R_ts[i])\n",
    "    U_r.append(E - U_ts[i-1])\n"
   ]
  },
  {
   "cell_type": "code",
   "execution_count": 69,
   "metadata": {},
   "outputs": [
    {
     "data": {
      "text/plain": [
       "[<matplotlib.lines.Line2D at 0x131b0f1f010>]"
      ]
     },
     "execution_count": 69,
     "metadata": {},
     "output_type": "execute_result"
    },
    {
     "data": {
      "image/png": "[encoded data removed]",
      "text/plain": [
       "<Figure size 640x480 with 1 Axes>"
      ]
     },
     "metadata": {},
     "output_type": "display_data"
    }
   ],
   "source": [
    "plt.plot(time, I_ts)\n",
    "#plt.xlim([0.256,0.257])\n",
    "#plt.yscale('log')"
   ]
  }
 ],
 "metadata": {
  "kernelspec": {
   "display_name": "Python 3",
   "language": "python",
   "name": "python3"
  },
  "language_info": {
   "codemirror_mode": {
    "name": "ipython",
    "version": 3
   },
   "file_extension": ".py",
   "mimetype": "text/x-python",
   "name": "python",
   "nbconvert_exporter": "python",
   "pygments_lexer": "ipython3",
   "version": "3.11.4"
  },
  "orig_nbformat": 4
 },
 "nbformat": 4,
 "nbformat_minor": 2
}
