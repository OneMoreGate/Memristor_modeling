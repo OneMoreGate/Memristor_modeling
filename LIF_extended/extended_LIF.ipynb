{
 "cells": [
  {
   "cell_type": "code",
   "execution_count": 1,
   "metadata": {},
   "outputs": [],
   "source": [
    "from matplotlib import pyplot as plt\n",
    "import matplotlib.ticker as ticker\n",
    "from matplotlib.gridspec import GridSpec\n",
    "import numpy as np\n",
    "plt.rcParams.update({'font.family':'serif'})"
   ]
  },
  {
   "cell_type": "code",
   "execution_count": 2,
   "metadata": {},
   "outputs": [],
   "source": [
    "class ThresholdSwitch():\n",
    "    R_off: float = 5e10\n",
    "    R_on: float = 3e4\n",
    "    V_th: float = 0.45\n",
    "    V_hold: float = 0.05\n",
    "    distribs: bool = False\n",
    "    V_th_dist: float = V_th\n",
    "    V_hold_dist: float = V_hold\n",
    "    V_th_std: float = 0.03\n",
    "    V_hold_std: float = 0.01\n",
    "\n",
    "    def __init__(self,  R_off = R_off, R_on = R_on, V_th = V_th, V_hold = V_hold) -> None:\n",
    "        self.R_off = R_off\n",
    "        self.R_on = R_on\n",
    "        self.V_th = V_th\n",
    "        self.V_hold = V_hold\n",
    "        self.state = 'off'\n",
    "\n",
    "    def params_distibs(self, distribs = distribs, V_th_std = V_th_std, V_hold_std = V_hold_std) -> None:\n",
    "        self.distribs = distribs\n",
    "        self.V_th_std = V_th_std\n",
    "        self.V_hold_std = V_hold_std\n",
    "\n",
    "    def get_resistance(self, voltage: float) -> float:\n",
    "        if (self.state == 'off') and ((voltage) < self.V_th):\n",
    "            return self.R_off\n",
    "        elif (self.state == 'off') and ((voltage) > self.V_th):\n",
    "            self.state = 'on'\n",
    "            if self.distribs == True:\n",
    "                self.V_th = np.random.normal(loc = self.V_th_dist, scale = self.V_th_std)\n",
    "            return self.R_on\n",
    "        elif (self.state == 'on') and ((voltage) > self.V_hold):\n",
    "            return self.R_on\n",
    "        elif (self.state == 'on') and ((voltage) < self.V_hold):\n",
    "            self.state = 'off'\n",
    "            if self.distribs == True:\n",
    "                self.V_hold = np.random.normal(loc = self.V_hold_dist, scale = self.V_hold_std)\n",
    "            return self.R_off"
   ]
  },
  {
   "cell_type": "code",
   "execution_count": 103,
   "metadata": {},
   "outputs": [],
   "source": [
    "class ExtendedLIF():\n",
    "    E: float = 1\n",
    "    C_m: float = 1e-10\n",
    "    R_r: float = 1e6\n",
    "    V_c_init: float = 0\n",
    "\n",
    "    def __init__(self, ts: ThresholdSwitch, E = E, R_r = R_r, C_m = C_m) -> None:\n",
    "        self.ts = ts\n",
    "        self.E = E\n",
    "        self.R_r = R_r\n",
    "        self.C_m = C_m\n",
    "\n",
    "    def calculate(self, time_interval: float = 0.01, dots: int = 100000) -> tuple:\n",
    "        self.R_ts = [self.ts.get_resistance(self.V_c_init)]\n",
    "        self.I_r = [self.E / (self.R_r + self.R_ts[0])]\n",
    "        self.V_c = [self.V_c_init]\n",
    "        time_array = np.linspace(0, time_interval, dots)\n",
    "        delta_t = time_array[1] - time_array[0]\n",
    "        for i in range(1, dots):\n",
    "            self.V_c.append((self.I_r[i - 1] - self.V_c[i - 1] / self.R_ts[i - 1]) * (delta_t / self.C_m) + self.V_c[i - 1])\n",
    "            self.R_ts.append(self.ts.get_resistance(self.V_c[i]))\n",
    "            self.I_r.append(self.E / (self.R_r + self.R_ts[i]))\n",
    "        return time_array, self.V_c, self.R_ts"
   ]
  },
  {
   "cell_type": "code",
   "execution_count": 106,
   "metadata": {},
   "outputs": [],
   "source": [
    "ts = ThresholdSwitch(V_hold=0.1, R_off=1e8)\n",
    "ts.params_distibs(distribs=True, V_hold_std=0.003, V_th_std=0.03)\n",
    "el = ExtendedLIF(ts=ts, E=1)\n",
    "t, v, r = el.calculate(time_interval=0.01, dots=5_000_00)"
   ]
  },
  {
   "cell_type": "code",
   "execution_count": 107,
   "metadata": {},
   "outputs": [
    {
     "data": {
      "text/plain": [
       "[<matplotlib.lines.Line2D at 0x1c6d2fed6d0>]"
      ]
     },
     "execution_count": 107,
     "metadata": {},
     "output_type": "execute_result"
    },
    {
     "data": {
      "image/png": "[encoded data removed]",
      "text/plain": [
       "<Figure size 640x480 with 1 Axes>"
      ]
     },
     "metadata": {},
     "output_type": "display_data"
    }
   ],
   "source": [
    "#plt.plot(t, np.array(v))\n",
    "plt.plot(t, np.array(v) / np.array(r))\n",
    "plt.xlim()"
   ]
  }
 ],
 "metadata": {
  "kernelspec": {
   "display_name": "Python 3",
   "language": "python",
   "name": "python3"
  },
  "language_info": {
   "codemirror_mode": {
    "name": "ipython",
    "version": 3
   },
   "file_extension": ".py",
   "mimetype": "text/x-python",
   "name": "python",
   "nbconvert_exporter": "python",
   "pygments_lexer": "ipython3",
   "version": "3.11.4"
  },
  "orig_nbformat": 4
 },
 "nbformat": 4,
 "nbformat_minor": 2
}
