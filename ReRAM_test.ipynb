{
 "cells": [
  {
   "cell_type": "code",
   "execution_count": 1,
   "metadata": {},
   "outputs": [],
   "source": [
    "import numpy as np\n",
    "import matplotlib.pyplot as plt\n",
    "import matplotlib.ticker as ticker"
   ]
  },
  {
   "cell_type": "code",
   "execution_count": 2,
   "metadata": {},
   "outputs": [],
   "source": [
    "class Signal:\n",
    "\n",
    "    def __init__(self) -> None:\n",
    "        pass\n",
    "\n",
    "    def signal_initialize(self, amplitude, frequency, reprtition, n_points, duty_cycle):\n",
    "        self.amplitude = amplitude\n",
    "        self.frequency = frequency\n",
    "        self.reprtition = reprtition\n",
    "        self.n_points = n_points\n",
    "        self.duty_cycle = duty_cycle\n",
    "        self.period = 1 / frequency\n",
    "        self.time_array = np.linspace(0, self.reprtition * self.period, self.reprtition * self.n_points)\n",
    "\n",
    "    def sine(self) -> list:\n",
    "        scale = 2 * np.pi * self.frequency\n",
    "        voltage = self.amplitude * np.sin(self.time_array * scale)\n",
    "        self.V = np.array(voltage)\n",
    "        return [self.time_array, self.V]\n",
    "    \n",
    "    def triangle(self):\n",
    "        quater_period = self.period / 4\n",
    "        t = self.time_array\n",
    "        voltage = []\n",
    "        for j in range(self.reprtition):\n",
    "            for i in t[j * self.n_points: (j+1) * self.n_points]:\n",
    "                if i <= (t[j * self.n_points] + quater_period):\n",
    "                    voltage.append(self.amplitude / quater_period * (i - t[j * self.n_points])+ np.random.normal(0,0.05))\n",
    "                elif (i > (t[j * self.n_points] + quater_period)) and (i < (t[j * self.n_points] + 3 * quater_period)):\n",
    "                    voltage.append(- self.amplitude / quater_period * (i - t[j * self.n_points] - 3 * quater_period) - self.amplitude+ np.random.normal(0,0.05))\n",
    "                elif i > (t[j * self.n_points] + 3 * quater_period):\n",
    "                    voltage.append(self.amplitude / quater_period * (i - t[j * self.n_points]) - 4 * self.amplitude+ np.random.normal(0,0.05))\n",
    "        self.V = np.array(voltage)\n",
    "        return [self.time_array, self.V]\n",
    "    \n",
    "    def bipolar_rectangle(self):\n",
    "        half_period = self.period / 2\n",
    "        t = self.time_array\n",
    "        voltage = []\n",
    "        for j in range(self.reprtition):\n",
    "            for i in t[j * self.n_points: (j+1) * self.n_points]:\n",
    "                if (i <= (t[j * self.n_points] + half_period/2)) or ((i > (t[j * self.n_points] + half_period)) and i < (t[j * self.n_points] + 3/2 *half_period)):\n",
    "                    voltage.append( 0)\n",
    "                elif (i > (t[j * self.n_points] + half_period/2)) and i < (t[j * self.n_points] + half_period):\n",
    "                    voltage.append(self.amplitude)\n",
    "                elif (i > (t[j * self.n_points] + 3/2 *half_period)):\n",
    "                    voltage.append(- self.amplitude)\n",
    "        voltage[-1] = 0\n",
    "        self.V = np.array(voltage)\n",
    "        return [self.time_array, self.V]\n",
    "\n"
   ]
  },
  {
   "cell_type": "code",
   "execution_count": 3,
   "metadata": {},
   "outputs": [],
   "source": [
    "class Hyperparameters:\n",
    "\n",
    "    def __init__(self) -> None:\n",
    "        pass\n",
    "\n",
    "    def hyp_initialize(self, V_th_n, V_th_p, a, b, c, s, n, beta, xi, alpha_m, gamma):\n",
    "        self.V_th_p = np.random.normal(V_th_p,0.25)\n",
    "        self.V_th_n = np.random.normal(V_th_n,0.25)\n",
    "        self.a = a\n",
    "        self.b = b\n",
    "        self.c = c\n",
    "        self.s = s\n",
    "        self.n = n\n",
    "        self.beta = beta\n",
    "        self.xi = xi\n",
    "        self.alpha_m = alpha_m\n",
    "        self.gamma = gamma"
   ]
  },
  {
   "cell_type": "code",
   "execution_count": 4,
   "metadata": {},
   "outputs": [],
   "source": [
    "class Calculation:\n",
    "\n",
    "    def __init__(self) -> None:\n",
    "        pass\n",
    "    \n",
    "    def p_calc(self, V_i):\n",
    "        return int(self.b/(np.abs(V_i) + self.c))\n",
    "\n",
    "    def f_calc(self, x_i, V_i):\n",
    "        if V_i <= - self.V_th_n:\n",
    "            return 1 - (1 - x_i) ** (self.p_calc(V_i))\n",
    "        elif V_i >= self.V_th_p:\n",
    "            return 1 - x_i ** (self.p_calc(V_i))\n",
    "        else:\n",
    "            return 0\n",
    "        \n",
    "    def x_calc(self):\n",
    "        delta_t = self.time_array[1] - self.time_array[0]\n",
    "        x = [0]\n",
    "        for i in range(1, len(self.time_array)):\n",
    "            x.append(self.a * self.V[i-1] ** self.s * self.f_calc(x[i-1], self.V[i-1]) * delta_t + x[i-1])\n",
    "        return np.array(x)\n",
    "\n",
    "    def current_calc(self):\n",
    "        x = self.x_calc()\n",
    "        return x ** self.n * self.beta * np.sinh(self.alpha_m * self.V) + self.xi * (np.exp(self.gamma * self.V) - 1)\n",
    "    \n",
    "    def current_calc_with_noise(self):\n",
    "        x = self.x_calc()\n",
    "        I = x ** self.n * self.beta * np.sinh(self.alpha_m * self.V) + self.xi * (np.exp(self.gamma * self.V) - 1)\n",
    "        I_plus_noise = np.array([i * (1 + np.random.normal(0,0.1)) for i in I])\n",
    "        return I_plus_noise"
   ]
  },
  {
   "cell_type": "code",
   "execution_count": 5,
   "metadata": {},
   "outputs": [],
   "source": [
    "class Model(Signal, Hyperparameters, Calculation):\n",
    "\n",
    "    amplitude: float \n",
    "\n",
    "    def __init__(self) -> None:\n",
    "        super().__init__()\n",
    "\n",
    "    def set_puls_params(self, amplitude = 2, frequency = 1, reprtition = 1, n_points = 100, duty_cycle = 0.25):\n",
    "        super().signal_initialize(amplitude= amplitude, frequency= frequency, reprtition = reprtition, n_points = n_points, duty_cycle = duty_cycle)\n",
    "\n",
    "    def set_hyperparams(self, V_th_p  = 1.5, V_th_n  = 1.5, a= 1 , b = 15, c = 2, s = 5, n = 5, beta = 7.069 * 10 ** (-5), xi = 1.946 * 10 ** (-4), alpha_m = 1.8, gamma = 0.15):\n",
    "        super().hyp_initialize(V_th_p = V_th_p, V_th_n = V_th_n, a = a, b = b, c = c, s = s, n = n, beta = beta, xi = xi, alpha_m = alpha_m, gamma = gamma)\n",
    "        \n",
    "    def set_puls_form(self, puls_type = 'sine'):\n",
    "        match puls_type:\n",
    "            case 'sine':\n",
    "                self.t, self.V = super().sine()\n",
    "            case 'triangle':\n",
    "                self.t, self.V = super().triangle()\n",
    "            case 'rectangle':\n",
    "                self.t, self.V = super().bipolar_rectangle()\n",
    "            case _:\n",
    "                self.t, self.V = super().sine()\n",
    "                print('The pulse_type is\\'t set correctly. The default pulse_type value is set')\n",
    "\n",
    "    def set_default(self):\n",
    "        self.set_hyperparams()\n",
    "        self.set_puls_params()\n",
    "        self.set_puls_form()\n",
    "\n",
    "    def calculate(self, set_noise = False):\n",
    "        if set_noise == True:\n",
    "            self.I = super().current_calc_with_noise()\n",
    "        else:\n",
    "            self.I = super().current_calc()\n",
    "\n"
   ]
  },
  {
   "cell_type": "code",
   "execution_count": 6,
   "metadata": {},
   "outputs": [
    {
     "data": {
      "text/plain": [
       "\"plt.yscale('log')\\nplt.ylim([10**(-9),10**(-1)])\""
      ]
     },
     "execution_count": 6,
     "metadata": {},
     "output_type": "execute_result"
    },
    {
     "data": {
      "image/png": "[encoded data removed]",
      "text/plain": [
       "<Figure size 640x480 with 1 Axes>"
      ]
     },
     "metadata": {},
     "output_type": "display_data"
    }
   ],
   "source": [
    "m = Model()\n",
    "\n",
    "m.set_hyperparams(V_th_p=3, V_th_n = 2, a=100000, n=13, beta=10 ** (-3), xi=10**(-6), alpha_m=1)\n",
    "m.set_puls_params(n_points=100, frequency=1000000, amplitude=4, reprtition=1, duty_cycle= 0.1)\n",
    "m.set_puls_form(puls_type='rectangle')\n",
    "m.calculate(set_noise=True)\n",
    "t = m.time_array\n",
    "V = m.V\n",
    "I = m.I\n",
    "\n",
    "#R = V/I\n",
    "\n",
    "\n",
    "#plt.plot(V,np.abs(I), linewidth = 0.5)\n",
    "plt.plot(t, V)\n",
    "plt.grid()\n",
    "'''plt.yscale('log')\n",
    "plt.ylim([10**(-9),10**(-1)])'''\n"
   ]
  },
  {
   "cell_type": "code",
   "execution_count": 7,
   "metadata": {},
   "outputs": [
    {
     "data": {
      "image/png": "[encoded data removed]",
      "text/plain": [
       "<Figure size 800x500 with 1 Axes>"
      ]
     },
     "metadata": {},
     "output_type": "display_data"
    }
   ],
   "source": [
    "fig, ax = plt.subplots(figsize = [8, 5])\n",
    "\n",
    "ax.plot(V,np.abs(I), linewidth = 0.07)\n",
    "#ax.set_ylim([10**(-10),10**(-1)])\n",
    "#ax.set_xlim([-4.2, 4.2])\n",
    "ax.set_yscale('log')\n",
    "ax.xaxis.set_major_locator(ticker.MultipleLocator(1))\n",
    "ax.xaxis.set_minor_locator(ticker.MultipleLocator(0.25))\n",
    "ax.tick_params(axis='x', which='both', labelsize=13, direction='in')\n",
    "ax.tick_params(axis='y', labelsize=13, direction='in')\n",
    "ax.yaxis.set_major_locator(ticker.LogLocator(base=10, numticks=20))\n",
    "ax.yaxis.set_minor_locator(ticker.LogLocator(base=10, numticks=20))\n",
    "\n",
    "#plt.savefig('I_V.png', dpi = 300, bbox_inches = 'tight')"
   ]
  },
  {
   "cell_type": "markdown",
   "metadata": {},
   "source": [
    "### В следующий раз нужно делать модель уже с учетом того, что она будет моделироваться онлайн с учетом других элементов цепи"
   ]
  },
  {
   "cell_type": "code",
   "execution_count": null,
   "metadata": {},
   "outputs": [
    {
     "ename": "AttributeError",
     "evalue": "'MyClass' object has no attribute '__atr_1'",
     "output_type": "error",
     "traceback": [
      "\u001b[1;31m---------------------------------------------------------------------------\u001b[0m",
      "\u001b[1;31mAttributeError\u001b[0m                            Traceback (most recent call last)",
      "Cell \u001b[1;32mIn[17], line 12\u001b[0m\n\u001b[0;32m      9\u001b[0m         \u001b[38;5;28mself\u001b[39m\u001b[38;5;241m.\u001b[39matr_1 \u001b[38;5;241m=\u001b[39m atr_1\n\u001b[0;32m     11\u001b[0m m \u001b[38;5;241m=\u001b[39m MyClass()\n\u001b[1;32m---> 12\u001b[0m \u001b[43mm\u001b[49m\u001b[38;5;241;43m.\u001b[39;49m\u001b[43m__atr_1\u001b[49m\n",
      "\u001b[1;31mAttributeError\u001b[0m: 'MyClass' object has no attribute '__atr_1'"
     ]
    }
   ],
   "source": [
    "class MyClass():\n",
    "\n",
    "    __atr_1: str = 'qwerty'\n",
    "\n",
    "    def __init__(self):\n",
    "        pass\n",
    "\n",
    "    def change(self, atr_1):\n",
    "        self.atr_1 = atr_1\n",
    "\n",
    "m = MyClass()"
   ]
  }
 ],
 "metadata": {
  "kernelspec": {
   "display_name": "Python 3",
   "language": "python",
   "name": "python3"
  },
  "language_info": {
   "codemirror_mode": {
    "name": "ipython",
    "version": 3
   },
   "file_extension": ".py",
   "mimetype": "text/x-python",
   "name": "python",
   "nbconvert_exporter": "python",
   "pygments_lexer": "ipython3",
   "version": "3.11.2"
  }
 },
 "nbformat": 4,
 "nbformat_minor": 2
}
