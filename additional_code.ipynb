{
 "cells": [
  {
   "cell_type": "code",
   "execution_count": 35,
   "metadata": {},
   "outputs": [],
   "source": [
    "import numpy as np\n",
    "import matplotlib.pyplot as plt\n",
    "import matplotlib.ticker as ticker"
   ]
  },
  {
   "cell_type": "code",
   "execution_count": 36,
   "metadata": {},
   "outputs": [],
   "source": [
    "class signhal:\n",
    "\n",
    "    amplitude: float\n",
    "    n_periods: float\n",
    "    shift: float\n",
    "\n",
    "    def sine_wave(time_array, amplitude = 1.0, shift = 0):\n",
    "        scale = (2 * np.pi) / (time_array[-1] - time_array[0])\n",
    "        return amplitude * np.sin(scale * (time_array - shift))\n",
    "    \n",
    "    def triangle(time_array, amplitude = 1.0):\n",
    "        quarter_period = (time_array[-1] - time_array[0]) / 4\n",
    "        first_rise = []\n",
    "        second_rise = []\n",
    "        decline = []\n",
    "        for i in range(len(time_array)):\n",
    "            if time_array[i] <= quarter_period:\n",
    "                first_rise.append(amplitude / quarter_period * (time_array[i]))\n",
    "            elif (time_array[i] > quarter_period) and (time_array[i] < 3 * quarter_period):\n",
    "                decline.append(- amplitude / quarter_period * (time_array[i] - quarter_period) + amplitude)\n",
    "            else:\n",
    "                second_rise.append(amplitude / quarter_period * (time_array[i] - 3 * quarter_period) - amplitude)\n",
    "        return np.concatenate([first_rise, decline, second_rise])\n",
    "    \n",
    "    def bipolar_rectangle(time_array, amplitude_time = 0.25, positive_amplitude = 1.0, negative_amplitude = -1.0):\n",
    "        half_period = (time_array[-1] - time_array[0]) / 2\n",
    "        voltage = []\n",
    "        for i in range(len(time_array)):\n",
    "            if time_array[i] <= half_period * (1 - 2 *  amplitude_time):\n",
    "                voltage.append(0)\n",
    "            elif (time_array[i] > half_period * (1 - 2 *  amplitude_time)) and (time_array[i] < half_period):\n",
    "                voltage.append(positive_amplitude)\n",
    "            elif (time_array[i] >= half_period) and (time_array[i] < 2 * half_period * (1 - amplitude_time)):\n",
    "                voltage.append(0)\n",
    "            else:\n",
    "                voltage.append(negative_amplitude)\n",
    "        voltage[-1] = 0\n",
    "        return np.array(voltage)\n",
    "\n"
   ]
  },
  {
   "cell_type": "code",
   "execution_count": 37,
   "metadata": {},
   "outputs": [
    {
     "data": {
      "text/plain": [
       "[<matplotlib.lines.Line2D at 0x1f4fb062890>]"
      ]
     },
     "execution_count": 37,
     "metadata": {},
     "output_type": "execute_result"
    },
    {
     "data": {
      "image/png": "[encoded data removed]",
      "text/plain": [
       "<Figure size 640x480 with 1 Axes>"
      ]
     },
     "metadata": {},
     "output_type": "display_data"
    }
   ],
   "source": [
    "t = np.linspace(0,4,200)\n",
    "V = signhal.bipolar_rectangle(t)\n",
    "\n",
    "plt.plot(t, V)"
   ]
  },
  {
   "cell_type": "code",
   "execution_count": null,
   "metadata": {},
   "outputs": [],
   "source": []
  }
 ],
 "metadata": {
  "kernelspec": {
   "display_name": "Python 3",
   "language": "python",
   "name": "python3"
  },
  "language_info": {
   "codemirror_mode": {
    "name": "ipython",
    "version": 3
   },
   "file_extension": ".py",
   "mimetype": "text/x-python",
   "name": "python",
   "nbconvert_exporter": "python",
   "pygments_lexer": "ipython3",
   "version": "3.11.4"
  },
  "orig_nbformat": 4
 },
 "nbformat": 4,
 "nbformat_minor": 2
}
